{
 "cells": [
  {
   "cell_type": "markdown",
   "metadata": {},
   "source": [
    "## LLM para Classificação de Documentos"
   ]
  },
  {
   "cell_type": "code",
   "execution_count": null,
   "metadata": {},
   "outputs": [],
   "source": [
    "import os\n",
    "API_KEY = 'XXX'\n",
    "PATH_DATASET = 'XXXX'\n",
    "MODELO_GPT = 'gpt-4o-mini'\n",
    "\n",
    "os.environ['OPENAI_API_KEY'] = API_KEY"
   ]
  },
  {
   "cell_type": "code",
   "execution_count": null,
   "metadata": {},
   "outputs": [],
   "source": [
    "import pandas as pd\n",
    "\n",
    "df_teste = pd.read_csv(PATH_DATASET)\n",
    "df_teste = df_teste[df_teste.subset == 'test']\n",
    "df_teste"
   ]
  },
  {
   "cell_type": "code",
   "execution_count": null,
   "metadata": {},
   "outputs": [],
   "source": [
    "from openai import OpenAI\n",
    "import tqdm\n",
    "import pandas as pd\n",
    "\n",
    "prompts = { 'especialista' : \n",
    "                {'Despacho ou decisão saneador(a)' : 'Analise o texto fornecido e determine se ele corresponde a um despacho saneador ou a outro tipo de documento jurídico. O despacho saneador é um documento jurídico no qual o juiz constata a existência de elementos mínimos para que a fase probatória do processo possa ser iniciada, relatando o que já foi apresentado, corrigindo eventuais defeitos e indicando os próximos passos. Os elementos mínimos para o prosseguimento do processo verificados no despacho saneador são: se os atos até então praticados no processo são válidos e se há alguma questão processual pendente. Em seguida, o despacho saneador definirá quais são as questões jurídicas relevante para o julgamento; se há fatos incontroversos, que não mais precisarão ser discutidos, e quais são os fatos controversos, que precisarão, iniciada a fase probatória, ser provados pelas partes; quais serão as provas admitidas, se periciais e/ou testemunhais, e que deverão ser produzidas na fase de instrução; sobre quem recairá o dever de provar cada um dos fatos controversos; e, ao final, convocará um perito e/ou designará uma audiência de instrução. No despacho saneador, o juiz também poderá anunciar que julgará o processo antecipadamente, se chegar à conclusão de que as alegações das partes já estão provadas do modo como estão e são suficientes para uma decisão de mérito. Baseie sua resposta na estrutura, no conteúdo e no propósito do documento analisado, conforme as instruções.',\n",
    "                 'Decisão Inicial': 'Analise o texto fornecido e determine se ele corresponde a uma decisão inicial ou a outro tipo de documento jurídico. Considere que a decisão inicial do processo é o documento jurídico emitido pelo juiz ou tribunal que, pela primeira vez, aceita ou nega, defere ou indefere um dos pedidos feitos pelo autor da ação. Essas decisões costumam ter como conteúdo o deferimento ou indeferimento de pedidos de tutela provisória de urgência ou de evidência. Em geral, as decisões iniciais trazem a seguinte expressão: “DECISÃO INTERLOCUTÓRIA”, que serve de título identificador do documento. Sempre que houver essa expressão e o documento resolver questões preliminares ou provisórias, como as “tutelas provisórias de urgência ou de evidência”, trata-se de uma decisão inicial. Baseie sua resposta na estrutura, no conteúdo e no propósito do documento analisado, conforme as instruções acima.',\n",
    "                 'Réplica': 'Analise o texto fornecido e determine se ele corresponde a uma réplica ou a outro tipo de documento jurídico. Considere que réplica é a segunda manifestação do autor da ação, aquele que entrou com a petição inicial, e tem como objetivo responder aos argumentos e provas trazidos pelo réu na sua contestação. A réplica é um documento jurídico que busca refutar as alegações de uma contestação. Em geral, as réplicas trazem a seguinte expressão: “vem oferecer RÉPLICA À CONTESTAÇÃO”, que serve como título identificador da peça. Sempre que houver essa expressão, trata-se de um documento jurídico do tipo réplica. Baseie sua resposta na estrutura, no conteúdo e no propósito do documento analisado, conforme as instruções acima.',\n",
    "                 'Petição Inicial': 'Analise o texto fornecido e determine se ele corresponde a uma petição inicial ou a outro tipo de documento jurídico. Considere que petição inicial é o primeiro documento jurídico do processo, pois é ele que inicia o processo. O propósito das petições iniciais é iniciar uma ação, oferecendo-a a um juiz ou tribunal. Por isso, é comum que as petições iniciais tragam a seguinte expressão: “vem oferecer AÇÃO”. Além disso, a petição inicial tem outros elementos que a distinguem de outros documentos jurídicos, como a menção a um valor da causa em reais e o pedido de citação do réu. Baseie sua resposta na estrutura, no conteúdo e no propósito do documento analisado, conforme as instruções acima.'\n",
    "                 },\n",
    "                \n",
    "            'promptbreeder' : \n",
    "                {'Despacho ou decisão saneador(a)' : 'Analise o texto jurídico e determine se ele é um despacho saneador, destacando características essenciais como a inversão do ônus da prova e a definição das provas. Enriqueça sua interpretação com exemplos práticos e associações inusitadas, garantindo que a análise seja clara e acessível. Evite erros de classificação e finalize com uma conclusão que sintetize os principais pontos, enfatizando a importância da precisão na análise.',\n",
    "                 'Decisão Inicial': 'Analise o texto de um documento jurídico e verifique se é uma decisão inicial, focando na expressão \"DECISÃO INTERLOCUTÓRIA\" e se trata de questões como tutelas de urgência. Considere também o impacto dessa decisão no processo judicial e nas partes envolvidas, mas de forma simplificada.',\n",
    "                 'Réplica':  'Analise o texto de um documento jurídico apresentado e determine se ele se classifica como uma réplica à contestação. Para isso, verifique a presença de expressões como \"vem oferecer RÉPLICA À CONTESTAÇÃO\" e outros indicadores que evidenciem a intenção de refutar as alegações do réu. Avalie se o documento responde diretamente aos argumentos apresentados na contestação. Classifique o documento como réplica ou não, considerando seu contexto legal.',\n",
    "                 'Petição Inicial': 'Analise o texto jurídico fornecido e determine se ele é uma petição inicial. Para isso, verifique se o documento contém a expressão “vem oferecer AÇÃO”, menciona um valor da causa em reais e solicita a citação do réu. Avalie a estrutura, o conteúdo e a intenção do documento, considerando que a petição inicial é o primeiro documento que inicia um processo judicial. Se a classificação não for correta, explique os erros encontrados e justifique sua resposta com base nas características típicas de uma petição inicial.'\n",
    "                 } \n",
    "            }\n",
    "\n",
    "client = OpenAI()\n",
    "\n",
    "true_label = []\n",
    "pred_label = []\n",
    "result = []\n",
    "\n",
    "tipos_documentos_avaliados = ['Despacho ou decisão saneador(a)', 'Decisão Inicial', 'Réplica', 'Petição Inicial']\n",
    "experimentos = ['especialista', 'promptbreeder']\n",
    "\n",
    "resultados = {}\n",
    "\n",
    "for experimento in experimentos:\n",
    "    for tipo_documento in tqdm.tqdm(tipos_documentos_avaliados):\n",
    "\n",
    "        for id, row in tqdm.tqdm(df_teste.iterrows()):\n",
    "\n",
    "            texto = row.texto\n",
    "            \n",
    "            prompt = prompts[experimento]\n",
    "            prompt = prompt[tipo_documento]\n",
    "            \n",
    "            content = f\"\"\"\n",
    "                        Analise a instrução a seguir e identifique se o ```texto``` pertence ao tipo de documento jurídico ```{tipo_documento}``` ou ```Não```.\n",
    "                        {prompt}\n",
    "                        \n",
    "                        Respoda \"Sim\" se o texto representa um documento do tipo ```{tipo_documento}```, ou ```Não``` caso contrário.\n",
    "                        \n",
    "                        Texto:\n",
    "                        {texto}\n",
    "                        \"\"\"\n",
    "                            \n",
    "            \n",
    "            completion = client.chat.completions.create(\n",
    "                            model=MODELO_GPT,\n",
    "                            messages=[\n",
    "                                {\"role\": \"user\", \"content\": content}\n",
    "                                    ]\n",
    "                        )\n",
    "\n",
    "            output = completion.choices[0].message.content\n",
    "            true = \"Sim\" if row.label == tipo_documento else \"Não\"\n",
    "            \n",
    "            result.append({'tipo_documento' : tipo_documento,\n",
    "                            'experimento': experimento,\n",
    "                            'label_true' : true,\n",
    "                            'label_pred': output,\n",
    "                            'texto': row.texto})\n",
    "\n",
    "df_result = pd.DataFrame(result)\n",
    "df_result"
   ]
  },
  {
   "cell_type": "code",
   "execution_count": null,
   "metadata": {},
   "outputs": [],
   "source": [
    "from sklearn.metrics import classification_report\n",
    "\n",
    "for experimento in experimentos:\n",
    "    print(experimento.upper())\n",
    "    for tipo_documento in tipos_documentos_avaliados:\n",
    "        df_filtrado = df_result[(df_result.experimento == experimento) & (df_result.tipo_documento == tipo_documento)]\n",
    "        print(tipo_documento)\n",
    "        print(classification_report(df_filtrado.label_true, df_filtrado.label_pred))"
   ]
  }
 ],
 "metadata": {
  "colab": {
   "collapsed_sections": [
    "g2nXIM5p6JRP",
    "2PSfmabUOlSS",
    "2bwIfZ7831JB"
   ],
   "provenance": [],
   "toc_visible": true
  },
  "kernelspec": {
   "display_name": "Python 3",
   "language": "python",
   "name": "python3"
  },
  "language_info": {
   "codemirror_mode": {
    "name": "ipython",
    "version": 3
   },
   "file_extension": ".py",
   "mimetype": "text/x-python",
   "name": "python",
   "nbconvert_exporter": "python",
   "pygments_lexer": "ipython3",
   "version": "3.9.6"
  }
 },
 "nbformat": 4,
 "nbformat_minor": 4
}
